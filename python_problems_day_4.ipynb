{
  "nbformat": 4,
  "nbformat_minor": 0,
  "metadata": {
    "colab": {
      "provenance": []
    },
    "kernelspec": {
      "name": "python3",
      "display_name": "Python 3"
    },
    "language_info": {
      "name": "python"
    }
  },
  "cells": [
    {
      "cell_type": "code",
      "execution_count": 1,
      "metadata": {
        "id": "ePD8khuLXWJE"
      },
      "outputs": [],
      "source": [
        "# waht are the decorator in python"
      ]
    },
    {
      "cell_type": "code",
      "source": [
        "# Define the decorator function\n",
        "def my_decorator(func):\n",
        "    # Define the wrapper function inside the decorator\n",
        "    def wrapper():\n",
        "        # This line runs before calling the original function\n",
        "        print(\"Something is happening before the function is called.\")\n",
        "        func()  # Call the original function\n",
        "        # This line runs after calling the original function\n",
        "        print(\"Something is happening after the function is called.\")\n",
        "    return wrapper\n",
        "\n",
        "# Apply the decorator to the say_hello function\n",
        "@my_decorator\n",
        "def say_hello():\n",
        "    print(\"Hello!\")\n",
        "\n",
        "# Call the decorated function\n",
        "say_hello()  # Output will be explained in comments below\n"
      ],
      "metadata": {
        "colab": {
          "base_uri": "https://localhost:8080/"
        },
        "id": "jur99lH7dmKY",
        "outputId": "8a53dc8d-e108-413e-9be3-7b6d0cea3bf6"
      },
      "execution_count": 2,
      "outputs": [
        {
          "output_type": "stream",
          "name": "stdout",
          "text": [
            "Something is happening before the function is called.\n",
            "Hello!\n",
            "Something is happening after the function is called.\n"
          ]
        }
      ]
    },
    {
      "cell_type": "code",
      "source": [
        "#How can you achieve multi-threading in Python?\n",
        "#==>Python has a threading module which can be used to achieve multi-threading."
      ],
      "metadata": {
        "id": "lQdmttbFdmvx"
      },
      "execution_count": 3,
      "outputs": []
    },
    {
      "cell_type": "code",
      "source": [
        "import threading\n",
        "\n",
        "def print_numbers():\n",
        "    for i in range(1, 6):\n",
        "        print(i)\n",
        "\n",
        "def print_letters():\n",
        "    for letter in 'abcde':\n",
        "        print(letter)\n",
        "\n",
        "t1 = threading.Thread(target=print_numbers)\n",
        "t2 = threading.Thread(target=print_letters)\n",
        "\n",
        "t1.start()\n",
        "t2.start()\n",
        "\n",
        "t1.join()\n",
        "t2.join()\n"
      ],
      "metadata": {
        "colab": {
          "base_uri": "https://localhost:8080/"
        },
        "id": "35spLCqHeXKx",
        "outputId": "e5523a7d-d214-4d36-adf7-f5161824c5ee"
      },
      "execution_count": 4,
      "outputs": [
        {
          "output_type": "stream",
          "name": "stdout",
          "text": [
            "1\n",
            "2\n",
            "3\n",
            "4\n",
            "5\n",
            "a\n",
            "b\n",
            "c\n",
            "d\n",
            "e\n"
          ]
        }
      ]
    },
    {
      "cell_type": "code",
      "source": [
        "#What are metaclasses in Python?\n",
        "#==>Metaclasses are a deep and advanced topic in Python. Essentially, they are \"classes of a class\" that define how a class behaves. The default metaclass is type, but you can create your own metaclass to customize class behavior."
      ],
      "metadata": {
        "id": "-ycNp-2weXOV"
      },
      "execution_count": null,
      "outputs": []
    },
    {
      "cell_type": "code",
      "source": [
        "# Define a metaclass\n",
        "class MyMeta(type):\n",
        "    def __new__(cls, name, bases, dct):\n",
        "        # Add a new attribute to the class\n",
        "        dct['new_attribute'] = 100\n",
        "        return super().__new__(cls, name, bases, dct)\n",
        "\n",
        "# Create a class using the metaclass\n",
        "class MyClass(metaclass=MyMeta):\n",
        "    pass\n",
        "\n",
        "# Instantiate the class\n",
        "obj = MyClass()\n",
        "\n",
        "# Access the new attribute added by the metaclass\n",
        "print(obj.new_attribute)  # Output: 100\n"
      ],
      "metadata": {
        "colab": {
          "base_uri": "https://localhost:8080/"
        },
        "id": "fnLF5ty_eXVw",
        "outputId": "a53491ef-2f07-4895-d8a4-434bf9b28b74"
      },
      "execution_count": 5,
      "outputs": [
        {
          "output_type": "stream",
          "name": "stdout",
          "text": [
            "100\n"
          ]
        }
      ]
    },
    {
      "cell_type": "code",
      "source": [
        "#How can you merge two dictionaries?"
      ],
      "metadata": {
        "id": "G2_0yGUcgLVp"
      },
      "execution_count": 6,
      "outputs": []
    },
    {
      "cell_type": "code",
      "source": [
        "d1 = {'a': 1, 'b': 2}\n",
        "d2 = {'b': 3, 'c': 4}\n",
        "merged = {**d1, **d2}\n",
        "print(merged)"
      ],
      "metadata": {
        "colab": {
          "base_uri": "https://localhost:8080/"
        },
        "id": "QUBBOiOJg36H",
        "outputId": "4dfbf56a-2e2f-4d6a-c2eb-92a9066e7b64"
      },
      "execution_count": 7,
      "outputs": [
        {
          "output_type": "stream",
          "name": "stdout",
          "text": [
            "{'a': 1, 'b': 3, 'c': 4}\n"
          ]
        }
      ]
    }
  ]
}