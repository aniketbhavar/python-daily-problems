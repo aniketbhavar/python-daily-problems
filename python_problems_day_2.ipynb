{
  "nbformat": 4,
  "nbformat_minor": 0,
  "metadata": {
    "colab": {
      "provenance": []
    },
    "kernelspec": {
      "name": "python3",
      "display_name": "Python 3"
    },
    "language_info": {
      "name": "python"
    }
  },
  "cells": [
    {
      "cell_type": "markdown",
      "source": [
        "# 1. How do you handle exceptions in Python?"
      ],
      "metadata": {
        "id": "YQWj-50qobKv"
      }
    },
    {
      "cell_type": "code",
      "execution_count": 1,
      "metadata": {
        "colab": {
          "base_uri": "https://localhost:8080/"
        },
        "id": "K8ye9t9VoKvN",
        "outputId": "5157fe79-4a5e-41b0-d8e2-3be3f3f90a4b"
      },
      "outputs": [
        {
          "output_type": "stream",
          "name": "stdout",
          "text": [
            "Cannot divide by zero!\n"
          ]
        }
      ],
      "source": [
        "try:\n",
        "    x = 1 / 0\n",
        "except ZeroDivisionError:\n",
        "    print(\"Cannot divide by zero!\")"
      ]
    },
    {
      "cell_type": "markdown",
      "source": [
        "# 2. What is a lambda function? Provide an example."
      ],
      "metadata": {
        "id": "rPWE2Ia7pBPV"
      }
    },
    {
      "cell_type": "code",
      "source": [
        "# a lambda function is a small, anonymous function. it can take any number of arguments but can only have one expression\n",
        "mul=lambda x,y : x * y\n",
        "print(mul(2,3))"
      ],
      "metadata": {
        "colab": {
          "base_uri": "https://localhost:8080/"
        },
        "id": "jWnP7-yYo_0L",
        "outputId": "5696ffc8-5a91-4c67-f631-b37e74202896"
      },
      "execution_count": 6,
      "outputs": [
        {
          "output_type": "stream",
          "name": "stdout",
          "text": [
            "6\n"
          ]
        }
      ]
    },
    {
      "cell_type": "code",
      "source": [
        "div=lambda x,y : x/y\n",
        "print(div(10,5))"
      ],
      "metadata": {
        "colab": {
          "base_uri": "https://localhost:8080/"
        },
        "id": "7WjLEI5jo_4Y",
        "outputId": "4b07e352-b6c0-4972-dd6e-23cb5f951e0e"
      },
      "execution_count": 5,
      "outputs": [
        {
          "output_type": "stream",
          "name": "stdout",
          "text": [
            "2.0\n"
          ]
        }
      ]
    },
    {
      "cell_type": "code",
      "source": [
        "add= lambda x,y : x+y\n",
        "print(add(5,5))"
      ],
      "metadata": {
        "colab": {
          "base_uri": "https://localhost:8080/"
        },
        "id": "sJm_klwqo_7p",
        "outputId": "3921d95f-eb1c-4ae6-ed27-f516d68f568f"
      },
      "execution_count": 7,
      "outputs": [
        {
          "output_type": "stream",
          "name": "stdout",
          "text": [
            "10\n"
          ]
        }
      ]
    },
    {
      "cell_type": "code",
      "source": [
        "sub= lambda x,y : x-y\n",
        "print(sub(10,5))"
      ],
      "metadata": {
        "colab": {
          "base_uri": "https://localhost:8080/"
        },
        "id": "0IOrA5xQo_-z",
        "outputId": "969c3b12-fd17-49df-df61-ab4fb496a5d1"
      },
      "execution_count": 8,
      "outputs": [
        {
          "output_type": "stream",
          "name": "stdout",
          "text": [
            "5\n"
          ]
        }
      ]
    },
    {
      "cell_type": "markdown",
      "source": [
        "# 3. Write a function that returns the n-th Fibonacci number using recursion."
      ],
      "metadata": {
        "id": "G06MTpztqRub"
      }
    },
    {
      "cell_type": "code",
      "source": [
        "def fibonacci(n):\n",
        "    if n <= 1:\n",
        "        return n\n",
        "    else:\n",
        "        return fibonacci(n-1) + fibonacci(n-2)"
      ],
      "metadata": {
        "id": "O4l--ocDpACD"
      },
      "execution_count": 9,
      "outputs": []
    },
    {
      "cell_type": "code",
      "source": [
        "print(fibonacci(10))\n"
      ],
      "metadata": {
        "colab": {
          "base_uri": "https://localhost:8080/"
        },
        "id": "OFktegd-pAER",
        "outputId": "8b8da98d-1a14-482f-8a7c-298dca3faa83"
      },
      "execution_count": 13,
      "outputs": [
        {
          "output_type": "stream",
          "name": "stdout",
          "text": [
            "55\n"
          ]
        }
      ]
    },
    {
      "cell_type": "markdown",
      "source": [
        "# 4. What is list comprehension and provide an example?"
      ],
      "metadata": {
        "id": "DFGGKrDlsK9q"
      }
    },
    {
      "cell_type": "code",
      "source": [
        "# List comprehension is a concise way to create lists in Python."
      ],
      "metadata": {
        "id": "ccDcCZLmpAGf"
      },
      "execution_count": 14,
      "outputs": []
    },
    {
      "cell_type": "code",
      "source": [
        "square = [x**2 for x in range(10)]\n",
        "print(square)"
      ],
      "metadata": {
        "colab": {
          "base_uri": "https://localhost:8080/"
        },
        "id": "GIsyRft6saq8",
        "outputId": "e1b99ac4-3132-4676-a688-a37f70ed2fd7"
      },
      "execution_count": 19,
      "outputs": [
        {
          "output_type": "stream",
          "name": "stdout",
          "text": [
            "[0, 1, 4, 9, 16, 25, 36, 49, 64, 81]\n"
          ]
        }
      ]
    },
    {
      "cell_type": "code",
      "source": [
        "for x in range(10):\n",
        "  c=x**2\n",
        "  print(c)"
      ],
      "metadata": {
        "colab": {
          "base_uri": "https://localhost:8080/"
        },
        "id": "NJjEkyMVsfV0",
        "outputId": "fb881d7c-676b-474e-9c89-bfb041431f1b"
      },
      "execution_count": 16,
      "outputs": [
        {
          "output_type": "stream",
          "name": "stdout",
          "text": [
            "0\n",
            "1\n",
            "4\n",
            "9\n",
            "16\n",
            "25\n",
            "36\n",
            "49\n",
            "64\n",
            "81\n"
          ]
        }
      ]
    },
    {
      "cell_type": "markdown",
      "source": [
        "# 5. How do you swap two variables in Python?"
      ],
      "metadata": {
        "id": "o7Cf5ZCytZxG"
      }
    },
    {
      "cell_type": "code",
      "source": [
        "a, b = 5, 10\n",
        "a, b = b, a\n",
        "print(a,b)"
      ],
      "metadata": {
        "colab": {
          "base_uri": "https://localhost:8080/"
        },
        "id": "0RPiMBmJteNW",
        "outputId": "5d0c1479-6a07-4ff4-ec28-c86d41a40e9e"
      },
      "execution_count": 21,
      "outputs": [
        {
          "output_type": "stream",
          "name": "stdout",
          "text": [
            "10 5\n"
          ]
        }
      ]
    }
  ]
}