{
  "nbformat": 4,
  "nbformat_minor": 0,
  "metadata": {
    "colab": {
      "provenance": []
    },
    "kernelspec": {
      "name": "python3",
      "display_name": "Python 3"
    },
    "language_info": {
      "name": "python"
    }
  },
  "cells": [
    {
      "cell_type": "markdown",
      "source": [
        "# 1. What is the difference between == and is?"
      ],
      "metadata": {
        "id": "7zlR88TTsaa4"
      }
    },
    {
      "cell_type": "code",
      "source": [
        "#== checks for value equality, while is checks for identity (whether two references point to the same object in memory)."
      ],
      "metadata": {
        "id": "phIoqTmOrk_t"
      },
      "execution_count": 2,
      "outputs": []
    },
    {
      "cell_type": "markdown",
      "source": [
        "# 2. Explain the concept of *args and **kwargs in Python."
      ],
      "metadata": {
        "id": "AwptL22HtFF_"
      }
    },
    {
      "cell_type": "code",
      "source": [
        "#*args allows you to pass a variable number of positional arguments to a function, while **kwargs allows you to pass a variable number of keyword arguments.\n",
        "def function_example(*args, **kwargs):\n",
        "    for arg in args:\n",
        "        print(arg)\n",
        "    for key, value in kwargs.items():\n",
        "        print(f\"{key} = {value}\")\n",
        "\n",
        "function_example(1, 2, 3, a=4, b=5)"
      ],
      "metadata": {
        "colab": {
          "base_uri": "https://localhost:8080/"
        },
        "id": "XMUd5JBpsop5",
        "outputId": "2e8fba23-12ec-432c-9212-5d6702980a63"
      },
      "execution_count": 1,
      "outputs": [
        {
          "output_type": "stream",
          "name": "stdout",
          "text": [
            "1\n",
            "2\n",
            "3\n",
            "a = 4\n",
            "b = 5\n"
          ]
        }
      ]
    },
    {
      "cell_type": "markdown",
      "source": [
        "# 3. What are Python's magic (dunder) methods, and how are they used? Provide an example."
      ],
      "metadata": {
        "id": "S1wjbmq7uBSr"
      }
    },
    {
      "cell_type": "code",
      "source": [
        "# Magic or dunder (double underscore) methods in Python are special methods that have double underscores at the beginning and end of their names. They allow developers to emulate built-in behavior or implement operator overloading."
      ],
      "metadata": {
        "id": "7z8ZsiWRsor-"
      },
      "execution_count": null,
      "outputs": []
    },
    {
      "cell_type": "code",
      "source": [
        "class Book:\n",
        "    def __init__(self, pages):\n",
        "        self.pages = pages\n",
        "\n",
        "    def __add__(self, other):\n",
        "        return Book(self.pages + other.pages)\n"
      ],
      "metadata": {
        "id": "S_aD1oA5souJ"
      },
      "execution_count": 3,
      "outputs": []
    },
    {
      "cell_type": "code",
      "source": [
        "obj1=Book(100)\n",
        "print(obj1)"
      ],
      "metadata": {
        "colab": {
          "base_uri": "https://localhost:8080/"
        },
        "id": "Bh2g61iGsowi",
        "outputId": "9469c88d-db0f-4e47-fe12-500c5c21bd93"
      },
      "execution_count": 5,
      "outputs": [
        {
          "output_type": "stream",
          "name": "stdout",
          "text": [
            "<__main__.Book object at 0x795be3b0f6d0>\n"
          ]
        }
      ]
    },
    {
      "cell_type": "code",
      "source": [
        "obj2=Book(180)"
      ],
      "metadata": {
        "id": "hqExlTSusoy8"
      },
      "execution_count": 6,
      "outputs": []
    },
    {
      "cell_type": "code",
      "source": [
        "book3 = obj1 + obj2\n",
        "print(book3.pages)"
      ],
      "metadata": {
        "colab": {
          "base_uri": "https://localhost:8080/"
        },
        "id": "5BykU9rsso2Z",
        "outputId": "659317ab-7ac7-47bc-bddf-09df162a2dc5"
      },
      "execution_count": 8,
      "outputs": [
        {
          "output_type": "stream",
          "name": "stdout",
          "text": [
            "280\n"
          ]
        }
      ]
    },
    {
      "cell_type": "markdown",
      "source": [
        "# 4. What does the zip function do in Python?"
      ],
      "metadata": {
        "id": "kscYn5bgBEH5"
      }
    },
    {
      "cell_type": "code",
      "source": [
        "# The zip function takes two or more iterables as arguments and returns an iterator that generates tuples containing elements from the input iterables. Elements are paired based on their order."
      ],
      "metadata": {
        "id": "wEXQoMs9BVwy"
      },
      "execution_count": 9,
      "outputs": []
    },
    {
      "cell_type": "code",
      "source": [
        "names = ['Alice', 'Bob', 'Charlie']\n",
        "ages = [25, 30, 35]\n",
        "result = zip(names, ages)\n",
        "print(result)\n",
        "print(list(result))"
      ],
      "metadata": {
        "colab": {
          "base_uri": "https://localhost:8080/"
        },
        "id": "kIhLwOTZBdvl",
        "outputId": "3bdb4e94-b2cf-4648-9a2d-a08b9778e5b6"
      },
      "execution_count": 11,
      "outputs": [
        {
          "output_type": "stream",
          "name": "stdout",
          "text": [
            "<zip object at 0x795be39e4a40>\n",
            "[('Alice', 25), ('Bob', 30), ('Charlie', 35)]\n"
          ]
        }
      ]
    }
  ]
}