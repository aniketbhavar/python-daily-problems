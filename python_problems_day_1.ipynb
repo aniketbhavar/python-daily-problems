{
  "nbformat": 4,
  "nbformat_minor": 0,
  "metadata": {
    "colab": {
      "provenance": []
    },
    "kernelspec": {
      "name": "python3",
      "display_name": "Python 3"
    },
    "language_info": {
      "name": "python"
    }
  },
  "cells": [
    {
      "cell_type": "markdown",
      "source": [
        "1. Find Maximum of two numbers in **Python**"
      ],
      "metadata": {
        "id": "f4CZpaThbIJ8"
      }
    },
    {
      "cell_type": "code",
      "execution_count": 1,
      "metadata": {
        "id": "thWmuSoga998"
      },
      "outputs": [],
      "source": [
        "# 1St problem\n",
        "def max(a,b):\n",
        "  if a>=b:\n",
        "    return a\n",
        "  else:\n",
        "    return b"
      ]
    },
    {
      "cell_type": "code",
      "source": [
        "a=2\n",
        "b=3\n",
        "c=max(a,b)"
      ],
      "metadata": {
        "id": "jXX6Yd2Mbz86"
      },
      "execution_count": 2,
      "outputs": []
    },
    {
      "cell_type": "code",
      "source": [
        "print(c)"
      ],
      "metadata": {
        "id": "AZitoO3sb7K-",
        "colab": {
          "base_uri": "https://localhost:8080/"
        },
        "outputId": "136ad7b2-cbb7-4d5f-be2f-80057e309cdb"
      },
      "execution_count": 4,
      "outputs": [
        {
          "output_type": "stream",
          "name": "stdout",
          "text": [
            "3\n"
          ]
        }
      ]
    },
    {
      "cell_type": "code",
      "source": [
        "#using other methods\n",
        "a=4\n",
        "b=3\n",
        "maximum=max(a,b)\n",
        "print(maximum)"
      ],
      "metadata": {
        "colab": {
          "base_uri": "https://localhost:8080/"
        },
        "id": "c43aPWxWXx6x",
        "outputId": "47637c8c-0241-45f6-e717-8ed53fda9e91"
      },
      "execution_count": 7,
      "outputs": [
        {
          "output_type": "stream",
          "name": "stdout",
          "text": [
            "4\n"
          ]
        }
      ]
    },
    {
      "cell_type": "markdown",
      "source": [
        "# 2. find Minimum of two numbers"
      ],
      "metadata": {
        "id": "5OJ_o_nBYK-1"
      }
    },
    {
      "cell_type": "code",
      "source": [
        "def min(a,b):\n",
        "  if a<=b:\n",
        "    return a\n",
        "  else:\n",
        "    return b"
      ],
      "metadata": {
        "id": "CXFgD32lYYDR"
      },
      "execution_count": 8,
      "outputs": []
    },
    {
      "cell_type": "code",
      "source": [
        "a=3\n",
        "b=2\n",
        "c=min(a,b)\n",
        "print(c)"
      ],
      "metadata": {
        "colab": {
          "base_uri": "https://localhost:8080/"
        },
        "id": "hm9NbKnKYs-m",
        "outputId": "70f0eba8-b1b9-4ba4-a00e-952d79c2da35"
      },
      "execution_count": 10,
      "outputs": [
        {
          "output_type": "stream",
          "name": "stdout",
          "text": [
            "2\n"
          ]
        }
      ]
    },
    {
      "cell_type": "markdown",
      "source": [
        "# 3. Write a function that takes a list of numbers and returns the sum."
      ],
      "metadata": {
        "id": "00PlfAC7ZV5X"
      }
    },
    {
      "cell_type": "code",
      "source": [
        "def sum_of_num(nums):\n",
        "  return sum(nums)"
      ],
      "metadata": {
        "id": "rMc8xOcIYwnL"
      },
      "execution_count": 11,
      "outputs": []
    },
    {
      "cell_type": "code",
      "source": [
        "nums=[1,2,3,4,5]"
      ],
      "metadata": {
        "id": "uDRmnAxwZv9M"
      },
      "execution_count": 13,
      "outputs": []
    },
    {
      "cell_type": "code",
      "source": [
        "c=sum_of_num(nums)\n",
        "print(c)"
      ],
      "metadata": {
        "colab": {
          "base_uri": "https://localhost:8080/"
        },
        "id": "_eIjBJWtZ1Cn",
        "outputId": "7c5e5da5-8852-4278-8b0b-918a46fb396e"
      },
      "execution_count": 14,
      "outputs": [
        {
          "output_type": "stream",
          "name": "stdout",
          "text": [
            "15\n"
          ]
        }
      ]
    },
    {
      "cell_type": "markdown",
      "source": [
        "# 4. How do you reverse a string in Python?"
      ],
      "metadata": {
        "id": "kWxaudSfaJjC"
      }
    },
    {
      "cell_type": "code",
      "source": [
        "s=\"aniket\"\n",
        "s1=s[::-1]\n",
        "print(s1)"
      ],
      "metadata": {
        "colab": {
          "base_uri": "https://localhost:8080/"
        },
        "id": "em5lsNMIaMn6",
        "outputId": "4ae9995b-aed7-4592-8d45-9a08325092fd"
      },
      "execution_count": 16,
      "outputs": [
        {
          "output_type": "stream",
          "name": "stdout",
          "text": [
            "tekina\n"
          ]
        }
      ]
    },
    {
      "cell_type": "code",
      "source": [
        "def reverse_string(s):\n",
        "    return s[::-1]"
      ],
      "metadata": {
        "id": "VMUw34ssaUfh"
      },
      "execution_count": 17,
      "outputs": []
    },
    {
      "cell_type": "code",
      "source": [
        "s=\"aniket\"\n",
        "c=reverse_string(s)\n",
        "print(c)"
      ],
      "metadata": {
        "colab": {
          "base_uri": "https://localhost:8080/"
        },
        "id": "dLys8zM3aeII",
        "outputId": "6292b18a-805a-4570-a009-eeb62a66560f"
      },
      "execution_count": 20,
      "outputs": [
        {
          "output_type": "stream",
          "name": "stdout",
          "text": [
            "tekina\n"
          ]
        }
      ]
    },
    {
      "cell_type": "markdown",
      "source": [
        "# 5. Write a function that checks if a given word is a palindrome."
      ],
      "metadata": {
        "id": "GBjGjqMIa5wb"
      }
    },
    {
      "cell_type": "code",
      "source": [
        "def is_palindrome(word):\n",
        "    return word == word[::-1]\n"
      ],
      "metadata": {
        "id": "JS1GFM2ba720"
      },
      "execution_count": 21,
      "outputs": []
    },
    {
      "cell_type": "code",
      "source": [
        "word=\"nayan\""
      ],
      "metadata": {
        "id": "kcQK7cNDbBaf"
      },
      "execution_count": 30,
      "outputs": []
    },
    {
      "cell_type": "code",
      "source": [
        "c=is_palindrome(word)"
      ],
      "metadata": {
        "id": "1ieWAQtpbBlx"
      },
      "execution_count": 31,
      "outputs": []
    },
    {
      "cell_type": "code",
      "source": [
        "print(c)"
      ],
      "metadata": {
        "colab": {
          "base_uri": "https://localhost:8080/"
        },
        "id": "BwnFgEbDbLOo",
        "outputId": "5e8c0e7a-0d8a-4803-e769-464913bd87b3"
      },
      "execution_count": 32,
      "outputs": [
        {
          "output_type": "stream",
          "name": "stdout",
          "text": [
            "True\n"
          ]
        }
      ]
    },
    {
      "cell_type": "markdown",
      "source": [
        "# How can you remove duplicates from a list?"
      ],
      "metadata": {
        "id": "XsAHkD28kWGK"
      }
    },
    {
      "cell_type": "code",
      "source": [
        "def remove_duplicates(lst):\n",
        "    return list(set(lst))"
      ],
      "metadata": {
        "id": "LUajvg3_kdOO"
      },
      "execution_count": 34,
      "outputs": []
    },
    {
      "cell_type": "code",
      "source": [
        "lst=[1,1,1,2,3,3,4,5,4,5,6,7]"
      ],
      "metadata": {
        "id": "IP3d7pifkmit"
      },
      "execution_count": 35,
      "outputs": []
    },
    {
      "cell_type": "code",
      "source": [
        "c=remove_duplicates(lst)"
      ],
      "metadata": {
        "id": "dxF_O4tIksVC"
      },
      "execution_count": 36,
      "outputs": []
    },
    {
      "cell_type": "code",
      "source": [
        "print(c)"
      ],
      "metadata": {
        "colab": {
          "base_uri": "https://localhost:8080/"
        },
        "id": "14YDUnIvkzVL",
        "outputId": "3bc5d086-5d25-4061-cb7a-c6f1d495e57b"
      },
      "execution_count": 37,
      "outputs": [
        {
          "output_type": "stream",
          "name": "stdout",
          "text": [
            "[1, 2, 3, 4, 5, 6, 7]\n"
          ]
        }
      ]
    },
    {
      "cell_type": "code",
      "source": [],
      "metadata": {
        "id": "OUZai_-Ok2e0"
      },
      "execution_count": null,
      "outputs": []
    }
  ]
}